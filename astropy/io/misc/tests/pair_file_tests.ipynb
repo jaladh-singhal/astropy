{
 "cells": [
  {
   "cell_type": "code",
   "execution_count": 2,
   "id": "c65ebf42",
   "metadata": {},
   "outputs": [],
   "source": [
    "from astropy.table import Table\n",
    "from astropy.utils.data import get_pkg_data_filename"
   ]
  },
  {
   "cell_type": "code",
   "execution_count": 8,
   "id": "49f9e552",
   "metadata": {},
   "outputs": [
    {
     "data": {
      "text/html": [
       "<div><i>Table length=5</i>\n",
       "<table id=\"table4730615232\" class=\"table-striped table-bordered table-condensed\">\n",
       "<thead><tr><th>designation</th><th>ra</th><th>dec</th><th>sigra</th><th>sigdec</th><th>sigradec</th><th>w1mpro</th><th>w1sigmpro</th><th>w1snr</th><th>w1rchi2</th><th>w2mpro</th><th>w2sigmpro</th><th>w2snr</th><th>w2rchi2</th><th>w3mpro</th><th>w3sigmpro</th><th>w3snr</th><th>w3rchi2</th><th>w4mpro</th><th>w4sigmpro</th><th>w4snr</th><th>w4rchi2</th><th>nb</th><th>na</th><th>w1sat</th><th>w2sat</th><th>w3sat</th><th>w4sat</th><th>pmra</th><th>sigpmra</th><th>pmdec</th><th>sigpmdec</th><th>cc_flags</th><th>ext_flg</th><th>var_flg</th><th>ph_qual</th><th>moon_lev</th><th>w1nm</th><th>w1m</th><th>w2nm</th><th>w2m</th><th>w3nm</th><th>w3m</th><th>w4nm</th><th>w4m</th></tr></thead>\n",
       "<thead><tr><th></th><th>deg</th><th>deg</th><th>arcsec</th><th>arcsec</th><th>arcsec</th><th>mag</th><th>mag</th><th></th><th></th><th>mag</th><th>mag</th><th></th><th></th><th>mag</th><th>mag</th><th></th><th></th><th>mag</th><th>mag</th><th></th><th></th><th></th><th></th><th></th><th></th><th></th><th></th><th>mas / yr</th><th>mas / yr</th><th>mas / yr</th><th>mas / yr</th><th></th><th></th><th></th><th></th><th></th><th></th><th></th><th></th><th></th><th></th><th></th><th></th><th></th></tr></thead>\n",
       "<thead><tr><th>object</th><th>float64</th><th>float64</th><th>float64</th><th>float64</th><th>float64</th><th>float32</th><th>float32</th><th>float64</th><th>float32</th><th>float32</th><th>float32</th><th>float64</th><th>float32</th><th>float32</th><th>float32</th><th>float64</th><th>float32</th><th>float32</th><th>float32</th><th>float64</th><th>float32</th><th>int64</th><th>int64</th><th>float32</th><th>float32</th><th>float32</th><th>float32</th><th>int64</th><th>int64</th><th>int64</th><th>int64</th><th>object</th><th>int64</th><th>object</th><th>object</th><th>object</th><th>int64</th><th>int64</th><th>int64</th><th>int64</th><th>int64</th><th>int64</th><th>int64</th><th>int64</th></tr></thead>\n",
       "<tr><td>J095540.45+690439.1</td><td>148.9185759</td><td>69.0775361</td><td>0.0519</td><td>0.0494</td><td>0.0110</td><td>11.233</td><td>0.029</td><td>37.3</td><td>84</td><td>11.510</td><td>0.026</td><td>42.5</td><td>33.5</td><td>10.530</td><td>0.097</td><td>11.1</td><td>1.35</td><td>8.212</td><td>--</td><td>1.9</td><td>0.881</td><td>2</td><td>0</td><td>0.000</td><td>0.000</td><td>0.000</td><td>0.001</td><td>-586</td><td>54</td><td>570</td><td>59</td><td>hhd0</td><td>3</td><td>441n</td><td>AAAU</td><td>0000</td><td>38</td><td>38</td><td>38</td><td>38</td><td>16</td><td>18</td><td>1</td><td>18</td></tr>\n",
       "<tr><td>J095542.55+690421.2</td><td>148.9273263</td><td>69.0725621</td><td>0.0401</td><td>0.0390</td><td>-0.0079</td><td>11.006</td><td>0.023</td><td>47.3</td><td>124</td><td>11.310</td><td>0.022</td><td>49.3</td><td>42.3</td><td>10.069</td><td>0.069</td><td>15.7</td><td>1.59</td><td>8.399</td><td>0.313</td><td>3.5</td><td>0.922</td><td>1</td><td>0</td><td>0.000</td><td>0.000</td><td>0.000</td><td>0.001</td><td>937</td><td>40</td><td>-42</td><td>41</td><td>dhhd</td><td>3</td><td>n20n</td><td>AAAB</td><td>0000</td><td>38</td><td>38</td><td>38</td><td>38</td><td>17</td><td>17</td><td>0</td><td>17</td></tr>\n",
       "<tr><td>J095522.94+690330.8</td><td>148.8456095</td><td>69.0585649</td><td>0.0412</td><td>0.0405</td><td>0.0044</td><td>11.353</td><td>0.022</td><td>49.7</td><td>156</td><td>11.693</td><td>0.022</td><td>48.6</td><td>36.4</td><td>9.816</td><td>0.060</td><td>18.1</td><td>2.84</td><td>8.003</td><td>0.174</td><td>6.2</td><td>1.1</td><td>2</td><td>0</td><td>0.000</td><td>0.000</td><td>0.000</td><td>0.000</td><td>372</td><td>50</td><td>263</td><td>54</td><td>hhhd</td><td>3</td><td>n41n</td><td>AAAB</td><td>0000</td><td>38</td><td>38</td><td>38</td><td>38</td><td>17</td><td>17</td><td>3</td><td>17</td></tr>\n",
       "<tr><td>J095533.22+690354.7</td><td>148.8884508</td><td>69.0652157</td><td>0.0255</td><td>0.0259</td><td>-0.0048</td><td>5.742</td><td>0.038</td><td>28.6</td><td>48.7</td><td>6.472</td><td>0.019</td><td>56.9</td><td>72</td><td>5.092</td><td>0.014</td><td>75.9</td><td>19.3</td><td>2.957</td><td>0.021</td><td>51.4</td><td>4.4</td><td>1</td><td>0</td><td>0.104</td><td>0.031</td><td>0.000</td><td>0.000</td><td>340</td><td>24</td><td>-323</td><td>24</td><td>0000</td><td>5</td><td>3420</td><td>AAAA</td><td>0000</td><td>38</td><td>38</td><td>38</td><td>38</td><td>18</td><td>18</td><td>18</td><td>18</td></tr>\n",
       "<tr><td>J095543.03+690346.4</td><td>148.9293026</td><td>69.0629078</td><td>0.0385</td><td>0.0378</td><td>-0.0073</td><td>10.755</td><td>0.023</td><td>47.7</td><td>148</td><td>11.050</td><td>0.021</td><td>51.4</td><td>55.8</td><td>9.592</td><td>0.049</td><td>22.0</td><td>2.84</td><td>7.764</td><td>0.150</td><td>7.2</td><td>1.26</td><td>1</td><td>0</td><td>0.000</td><td>0.000</td><td>0.000</td><td>0.000</td><td>640</td><td>39</td><td>-275</td><td>41</td><td>hhh0</td><td>3</td><td>n30n</td><td>AAAB</td><td>0000</td><td>38</td><td>38</td><td>38</td><td>38</td><td>17</td><td>17</td><td>5</td><td>17</td></tr>\n",
       "</table></div>"
      ],
      "text/plain": [
       "<Table length=5>\n",
       "    designation          ra        dec      sigra  ...  w3nm  w3m   w4nm  w4m \n",
       "                        deg        deg      arcsec ...                        \n",
       "       object         float64    float64   float64 ... int64 int64 int64 int64\n",
       "------------------- ----------- ---------- ------- ... ----- ----- ----- -----\n",
       "J095540.45+690439.1 148.9185759 69.0775361  0.0519 ...    16    18     1    18\n",
       "J095542.55+690421.2 148.9273263 69.0725621  0.0401 ...    17    17     0    17\n",
       "J095522.94+690330.8 148.8456095 69.0585649  0.0412 ...    17    17     3    17\n",
       "J095533.22+690354.7 148.8884508 69.0652157  0.0255 ...    18    18    18    18\n",
       "J095543.03+690346.4 148.9293026 69.0629078  0.0385 ...    17    17     5    17"
      ]
     },
     "execution_count": 8,
     "metadata": {},
     "output_type": "execute_result"
    }
   ],
   "source": [
    "input_vot_file = get_pkg_data_filename(\"data/table_allwise_p3as_psd-irsa-2.vot\")\n",
    "input_vot_table = Table.read(input_vot_file, format=\"votable\", use_names_over_ids=True)\n",
    "input_vot_table"
   ]
  },
  {
   "cell_type": "code",
   "execution_count": null,
   "id": "b52041b7",
   "metadata": {},
   "outputs": [
    {
     "data": {
      "text/plain": [
       "{'designation': {'unit': None, 'ucd': 'meta.id;meta.main', 'utype': None},\n",
       " 'ra': {'unit': Unit(\"deg\"), 'ucd': 'pos.eq.ra;meta.main', 'utype': None},\n",
       " 'dec': {'unit': Unit(\"deg\"), 'ucd': 'pos.eq.dec;meta.main', 'utype': None},\n",
       " 'sigra': {'unit': Unit(\"arcsec\"), 'ucd': 'pos.errorEllipse', 'utype': None},\n",
       " 'sigdec': {'unit': Unit(\"arcsec\"), 'ucd': 'pos.errorEllipse', 'utype': None},\n",
       " 'sigradec': {'unit': Unit(\"arcsec\"),\n",
       "  'ucd': 'pos.errorEllipse',\n",
       "  'utype': None},\n",
       " 'w1mpro': {'unit': Unit(\"mag\"), 'ucd': 'phot.mag', 'utype': None},\n",
       " 'w1sigmpro': {'unit': Unit(\"mag\"), 'ucd': 'stat.error', 'utype': None},\n",
       " 'w1snr': {'unit': None, 'ucd': 'stat.snr', 'utype': None},\n",
       " 'w1rchi2': {'unit': None, 'ucd': 'stat.fit.chi2', 'utype': None},\n",
       " 'w2mpro': {'unit': Unit(\"mag\"), 'ucd': 'phot.mag', 'utype': None},\n",
       " 'w2sigmpro': {'unit': Unit(\"mag\"), 'ucd': 'stat.error', 'utype': None},\n",
       " 'w2snr': {'unit': None, 'ucd': 'stat.snr', 'utype': None},\n",
       " 'w2rchi2': {'unit': None, 'ucd': 'stat.fit.chi2', 'utype': None},\n",
       " 'w3mpro': {'unit': Unit(\"mag\"), 'ucd': 'phot.mag', 'utype': None},\n",
       " 'w3sigmpro': {'unit': Unit(\"mag\"), 'ucd': 'stat.error', 'utype': None},\n",
       " 'w3snr': {'unit': None, 'ucd': 'stat.snr', 'utype': None},\n",
       " 'w3rchi2': {'unit': None, 'ucd': 'stat.fit.chi2', 'utype': None},\n",
       " 'w4mpro': {'unit': Unit(\"mag\"), 'ucd': 'phot.mag', 'utype': None},\n",
       " 'w4sigmpro': {'unit': Unit(\"mag\"), 'ucd': 'stat.error', 'utype': None},\n",
       " 'w4snr': {'unit': None, 'ucd': 'stat.snr', 'utype': None},\n",
       " 'w4rchi2': {'unit': None, 'ucd': 'stat.fit.chi2', 'utype': None},\n",
       " 'nb': {'unit': None, 'ucd': 'meta.number;stat.fit.param', 'utype': None},\n",
       " 'na': {'unit': None, 'ucd': 'meta.code', 'utype': None},\n",
       " 'w1sat': {'unit': None, 'ucd': 'stat.value', 'utype': None},\n",
       " 'w2sat': {'unit': None, 'ucd': 'stat.value', 'utype': None},\n",
       " 'w3sat': {'unit': None, 'ucd': 'stat.value', 'utype': None},\n",
       " 'w4sat': {'unit': None, 'ucd': 'stat.value', 'utype': None},\n",
       " 'pmra': {'unit': Unit(\"mas / yr\"), 'ucd': 'pos.pm', 'utype': None},\n",
       " 'sigpmra': {'unit': Unit(\"mas / yr\"), 'ucd': 'stat.error', 'utype': None},\n",
       " 'pmdec': {'unit': Unit(\"mas / yr\"), 'ucd': 'pos.pm', 'utype': None},\n",
       " 'sigpmdec': {'unit': Unit(\"mas / yr\"), 'ucd': 'stat.error', 'utype': None},\n",
       " 'cc_flags': {'unit': None, 'ucd': 'meta.code', 'utype': None},\n",
       " 'ext_flg': {'unit': None, 'ucd': 'stat.probability', 'utype': None},\n",
       " 'var_flg': {'unit': None, 'ucd': 'stat.probabillity', 'utype': None},\n",
       " 'ph_qual': {'unit': None, 'ucd': 'meta.code.qual', 'utype': None},\n",
       " 'moon_lev': {'unit': None, 'ucd': 'stat.value', 'utype': None},\n",
       " 'w1nm': {'unit': None, 'ucd': 'meta.number', 'utype': None},\n",
       " 'w1m': {'unit': None, 'ucd': 'meta.number', 'utype': None},\n",
       " 'w2nm': {'unit': None, 'ucd': 'meta.number', 'utype': None},\n",
       " 'w2m': {'unit': None, 'ucd': 'meta.number', 'utype': None},\n",
       " 'w3nm': {'unit': None, 'ucd': 'meta.number', 'utype': None},\n",
       " 'w3m': {'unit': None, 'ucd': 'meta.number', 'utype': None},\n",
       " 'w4nm': {'unit': None, 'ucd': 'meta.number', 'utype': None},\n",
       " 'w4m': {'unit': None, 'ucd': 'meta.number', 'utype': None}}"
      ]
     },
     "execution_count": 43,
     "metadata": {},
     "output_type": "execute_result"
    }
   ],
   "source": [
    "vo_meta = {}\n",
    "for col in input_vot_table.colnames:\n",
    "    vo_meta[col] = {\n",
    "        \"unit\": input_vot_table[col].unit,\n",
    "        \"ucd\": input_vot_table[col].meta.get(\"ucd\", None),\n",
    "        \"utype\": input_vot_table[col].meta.get(\"utype\", None),\n",
    "        # \"description\": input_vot_table[col].description, # otherwise it throws errors\n",
    "    }\n",
    "\n",
    "vo_meta"
   ]
  },
  {
   "cell_type": "code",
   "execution_count": 42,
   "id": "3f17df9e",
   "metadata": {},
   "outputs": [
    {
     "data": {
      "text/html": [
       "&lt;MaskedColumn name=&apos;ra&apos; dtype=&apos;float64&apos; unit=&apos;deg&apos; format=&apos;{:.7f}&apos; description=&apos;right ascension (J2000)&apos; length=5&gt;\n",
       "<table>\n",
       "<tr><td>148.9185759</td></tr>\n",
       "<tr><td>148.9273263</td></tr>\n",
       "<tr><td>148.8456095</td></tr>\n",
       "<tr><td>148.8884508</td></tr>\n",
       "<tr><td>148.9293026</td></tr>\n",
       "</table>"
      ],
      "text/plain": [
       "<MaskedColumn name='ra' dtype='float64' unit='deg' format='{:.7f}' description='right ascension (J2000)' length=5>\n",
       "148.9185759\n",
       "148.9273263\n",
       "148.8456095\n",
       "148.8884508\n",
       "148.9293026"
      ]
     },
     "execution_count": 42,
     "metadata": {},
     "output_type": "execute_result"
    }
   ],
   "source": [
    "input_vot_table[\"ra\"]"
   ]
  },
  {
   "cell_type": "code",
   "execution_count": null,
   "id": "0c3bb11a",
   "metadata": {},
   "outputs": [],
   "source": [
    "input_vot_table.write(\n",
    "        \"generated.parquet\",\n",
    "        format=\"parquet.votable\",\n",
    "        overwrite=True,\n",
    "    )"
   ]
  },
  {
   "cell_type": "code",
   "execution_count": 45,
   "id": "86637f0e",
   "metadata": {},
   "outputs": [
    {
     "name": "stderr",
     "output_type": "stream",
     "text": [
      "WARNING: No table::len::designation found in metadata. Using longest string (19 characters). [astropy.io.misc.parquet]\n",
      "WARNING: No table::len::cc_flags found in metadata. Using longest string (4 characters). [astropy.io.misc.parquet]\n",
      "WARNING: No table::len::var_flg found in metadata. Using longest string (4 characters). [astropy.io.misc.parquet]\n",
      "WARNING: No table::len::ph_qual found in metadata. Using longest string (4 characters). [astropy.io.misc.parquet]\n",
      "WARNING: No table::len::moon_lev found in metadata. Using longest string (4 characters). [astropy.io.misc.parquet]\n"
     ]
    },
    {
     "ename": "TableMergeError",
     "evalue": "The 'designation' columns have incompatible types: ['object', 'str608']",
     "output_type": "error",
     "traceback": [
      "\u001b[31m---------------------------------------------------------------------------\u001b[39m",
      "\u001b[31mMergeConflictError\u001b[39m                        Traceback (most recent call last)",
      "\u001b[36mFile \u001b[39m\u001b[32m~/dev/cm/astropy/astropy/table/operations.py:1492\u001b[39m, in \u001b[36m_vstack\u001b[39m\u001b[34m(arrays, join_type, metadata_conflicts)\u001b[39m\n\u001b[32m   1491\u001b[39m \u001b[38;5;28;01mtry\u001b[39;00m:\n\u001b[32m-> \u001b[39m\u001b[32m1492\u001b[39m     col = \u001b[43mcol_cls\u001b[49m\u001b[43m.\u001b[49m\u001b[43minfo\u001b[49m\u001b[43m.\u001b[49m\u001b[43mnew_like\u001b[49m\u001b[43m(\u001b[49m\u001b[43mcols\u001b[49m\u001b[43m,\u001b[49m\u001b[43m \u001b[49m\u001b[43mn_rows\u001b[49m\u001b[43m,\u001b[49m\u001b[43m \u001b[49m\u001b[43mmetadata_conflicts\u001b[49m\u001b[43m,\u001b[49m\u001b[43m \u001b[49m\u001b[43mout_name\u001b[49m\u001b[43m)\u001b[49m\n\u001b[32m   1493\u001b[39m \u001b[38;5;28;01mexcept\u001b[39;00m metadata.MergeConflictError \u001b[38;5;28;01mas\u001b[39;00m err:\n\u001b[32m   1494\u001b[39m     \u001b[38;5;66;03m# Beautify the error message when we are trying to merge columns with incompatible\u001b[39;00m\n\u001b[32m   1495\u001b[39m     \u001b[38;5;66;03m# types by including the name of the columns that originated the error.\u001b[39;00m\n",
      "\u001b[36mFile \u001b[39m\u001b[32m~/dev/cm/astropy/astropy/table/column.py:479\u001b[39m, in \u001b[36mColumnInfo.new_like\u001b[39m\u001b[34m(self, cols, length, metadata_conflicts, name)\u001b[39m\n\u001b[32m    455\u001b[39m \u001b[38;5;250m\u001b[39m\u001b[33;03m\"\"\"\u001b[39;00m\n\u001b[32m    456\u001b[39m \u001b[33;03mReturn a new Column instance which is consistent with the\u001b[39;00m\n\u001b[32m    457\u001b[39m \u001b[33;03minput ``cols`` and has ``length`` rows.\u001b[39;00m\n\u001b[32m   (...)\u001b[39m\u001b[32m    477\u001b[39m \n\u001b[32m    478\u001b[39m \u001b[33;03m\"\"\"\u001b[39;00m\n\u001b[32m--> \u001b[39m\u001b[32m479\u001b[39m attrs = \u001b[38;5;28;43mself\u001b[39;49m\u001b[43m.\u001b[49m\u001b[43mmerge_cols_attributes\u001b[49m\u001b[43m(\u001b[49m\n\u001b[32m    480\u001b[39m \u001b[43m    \u001b[49m\u001b[43mcols\u001b[49m\u001b[43m,\u001b[49m\u001b[43m \u001b[49m\u001b[43mmetadata_conflicts\u001b[49m\u001b[43m,\u001b[49m\u001b[43m \u001b[49m\u001b[43mname\u001b[49m\u001b[43m,\u001b[49m\u001b[43m \u001b[49m\u001b[43m(\u001b[49m\u001b[33;43m\"\u001b[39;49m\u001b[33;43mmeta\u001b[39;49m\u001b[33;43m\"\u001b[39;49m\u001b[43m,\u001b[49m\u001b[43m \u001b[49m\u001b[33;43m\"\u001b[39;49m\u001b[33;43munit\u001b[39;49m\u001b[33;43m\"\u001b[39;49m\u001b[43m,\u001b[49m\u001b[43m \u001b[49m\u001b[33;43m\"\u001b[39;49m\u001b[33;43mformat\u001b[39;49m\u001b[33;43m\"\u001b[39;49m\u001b[43m,\u001b[49m\u001b[43m \u001b[49m\u001b[33;43m\"\u001b[39;49m\u001b[33;43mdescription\u001b[39;49m\u001b[33;43m\"\u001b[39;49m\u001b[43m)\u001b[49m\n\u001b[32m    481\u001b[39m \u001b[43m\u001b[49m\u001b[43m)\u001b[49m\n\u001b[32m    483\u001b[39m \u001b[38;5;28;01mreturn\u001b[39;00m \u001b[38;5;28mself\u001b[39m._parent_cls(length=length, **attrs)\n",
      "\u001b[36mFile \u001b[39m\u001b[32m~/dev/cm/astropy/astropy/utils/data_info.py:741\u001b[39m, in \u001b[36mBaseColumnInfo.merge_cols_attributes\u001b[39m\u001b[34m(cols, metadata_conflicts, name, attrs)\u001b[39m\n\u001b[32m    740\u001b[39m \u001b[38;5;66;03m# Output dtype is the superset of all dtypes in in_cols\u001b[39;00m\n\u001b[32m--> \u001b[39m\u001b[32m741\u001b[39m out[\u001b[33m\"\u001b[39m\u001b[33mdtype\u001b[39m\u001b[33m\"\u001b[39m] = \u001b[43mmetadata\u001b[49m\u001b[43m.\u001b[49m\u001b[43mcommon_dtype\u001b[49m\u001b[43m(\u001b[49m\u001b[43mcols\u001b[49m\u001b[43m)\u001b[49m\n\u001b[32m    743\u001b[39m \u001b[38;5;66;03m# Make sure all input shapes are the same\u001b[39;00m\n",
      "\u001b[36mFile \u001b[39m\u001b[32m~/dev/cm/astropy/astropy/utils/metadata/utils.py:44\u001b[39m, in \u001b[36mcommon_dtype\u001b[39m\u001b[34m(arrs)\u001b[39m\n\u001b[32m     43\u001b[39m     tme._incompat_types = incompat_types\n\u001b[32m---> \u001b[39m\u001b[32m44\u001b[39m     \u001b[38;5;28;01mraise\u001b[39;00m tme\n\u001b[32m     46\u001b[39m arrs = [np.empty(\u001b[32m1\u001b[39m, dtype=dtype(arr)) \u001b[38;5;28;01mfor\u001b[39;00m arr \u001b[38;5;129;01min\u001b[39;00m arrs]\n",
      "\u001b[31mMergeConflictError\u001b[39m: Arrays have incompatible types ['object', 'str608']",
      "\nThe above exception was the direct cause of the following exception:\n",
      "\u001b[31mTableMergeError\u001b[39m                           Traceback (most recent call last)",
      "\u001b[36mCell\u001b[39m\u001b[36m \u001b[39m\u001b[32mIn[45]\u001b[39m\u001b[32m, line 1\u001b[39m\n\u001b[32m----> \u001b[39m\u001b[32m1\u001b[39m \u001b[43mTable\u001b[49m\u001b[43m.\u001b[49m\u001b[43mread\u001b[49m\u001b[43m(\u001b[49m\u001b[33;43m\"\u001b[39;49m\u001b[33;43mgenerated.parquet\u001b[39;49m\u001b[33;43m\"\u001b[39;49m\u001b[43m,\u001b[49m\u001b[43m \u001b[49m\u001b[38;5;28;43mformat\u001b[39;49m\u001b[43m=\u001b[49m\u001b[33;43m\"\u001b[39;49m\u001b[33;43mparquet.votable\u001b[39;49m\u001b[33;43m\"\u001b[39;49m\u001b[43m)\u001b[49m\n",
      "\u001b[36mFile \u001b[39m\u001b[32m~/dev/cm/astropy/astropy/table/connect.py:62\u001b[39m, in \u001b[36mTableRead.__call__\u001b[39m\u001b[34m(self, *args, **kwargs)\u001b[39m\n\u001b[32m     59\u001b[39m units = kwargs.pop(\u001b[33m\"\u001b[39m\u001b[33munits\u001b[39m\u001b[33m\"\u001b[39m, \u001b[38;5;28;01mNone\u001b[39;00m)\n\u001b[32m     60\u001b[39m descriptions = kwargs.pop(\u001b[33m\"\u001b[39m\u001b[33mdescriptions\u001b[39m\u001b[33m\"\u001b[39m, \u001b[38;5;28;01mNone\u001b[39;00m)\n\u001b[32m---> \u001b[39m\u001b[32m62\u001b[39m out = \u001b[38;5;28;43mself\u001b[39;49m\u001b[43m.\u001b[49m\u001b[43mregistry\u001b[49m\u001b[43m.\u001b[49m\u001b[43mread\u001b[49m\u001b[43m(\u001b[49m\u001b[38;5;28;43mcls\u001b[39;49m\u001b[43m,\u001b[49m\u001b[43m \u001b[49m\u001b[43m*\u001b[49m\u001b[43margs\u001b[49m\u001b[43m,\u001b[49m\u001b[43m \u001b[49m\u001b[43m*\u001b[49m\u001b[43m*\u001b[49m\u001b[43mkwargs\u001b[49m\u001b[43m)\u001b[49m\n\u001b[32m     64\u001b[39m \u001b[38;5;66;03m# For some readers (e.g., ascii.ecsv), the returned `out` class is not\u001b[39;00m\n\u001b[32m     65\u001b[39m \u001b[38;5;66;03m# guaranteed to be the same as the desired output `cls`.  If so,\u001b[39;00m\n\u001b[32m     66\u001b[39m \u001b[38;5;66;03m# try coercing to desired class without copying (io.registry.read\u001b[39;00m\n\u001b[32m     67\u001b[39m \u001b[38;5;66;03m# would normally do a copy).  The normal case here is swapping\u001b[39;00m\n\u001b[32m     68\u001b[39m \u001b[38;5;66;03m# Table <=> QTable.\u001b[39;00m\n\u001b[32m     69\u001b[39m \u001b[38;5;28;01mif\u001b[39;00m \u001b[38;5;28mcls\u001b[39m \u001b[38;5;129;01mis\u001b[39;00m \u001b[38;5;129;01mnot\u001b[39;00m out.\u001b[34m__class__\u001b[39m:\n",
      "\u001b[36mFile \u001b[39m\u001b[32m~/dev/cm/astropy/astropy/io/registry/core.py:221\u001b[39m, in \u001b[36mUnifiedInputRegistry.read\u001b[39m\u001b[34m(self, cls, format, cache, *args, **kwargs)\u001b[39m\n\u001b[32m    218\u001b[39m         kwargs.update({\u001b[33m\"\u001b[39m\u001b[33mfilename\u001b[39m\u001b[33m\"\u001b[39m: path})\n\u001b[32m    220\u001b[39m reader = \u001b[38;5;28mself\u001b[39m.get_reader(\u001b[38;5;28mformat\u001b[39m, \u001b[38;5;28mcls\u001b[39m)\n\u001b[32m--> \u001b[39m\u001b[32m221\u001b[39m data = \u001b[43mreader\u001b[49m\u001b[43m(\u001b[49m\u001b[43m*\u001b[49m\u001b[43margs\u001b[49m\u001b[43m,\u001b[49m\u001b[43m \u001b[49m\u001b[43m*\u001b[49m\u001b[43m*\u001b[49m\u001b[43mkwargs\u001b[49m\u001b[43m)\u001b[49m\n\u001b[32m    223\u001b[39m \u001b[38;5;28;01mif\u001b[39;00m \u001b[38;5;129;01mnot\u001b[39;00m \u001b[38;5;28misinstance\u001b[39m(data, \u001b[38;5;28mcls\u001b[39m):\n\u001b[32m    224\u001b[39m     \u001b[38;5;66;03m# User has read with a subclass where only the parent class is\u001b[39;00m\n\u001b[32m    225\u001b[39m     \u001b[38;5;66;03m# registered.  This returns the parent class, so try coercing\u001b[39;00m\n\u001b[32m    226\u001b[39m     \u001b[38;5;66;03m# to desired subclass.\u001b[39;00m\n\u001b[32m    227\u001b[39m     \u001b[38;5;28;01mtry\u001b[39;00m:\n",
      "\u001b[36mFile \u001b[39m\u001b[32m~/dev/cm/astropy/astropy/io/misc/parquet.py:675\u001b[39m, in \u001b[36mread_parquet_votable\u001b[39m\u001b[34m(filename)\u001b[39m\n\u001b[32m    672\u001b[39m data_table_with_no_metadata = Table.read(filename, \u001b[38;5;28mformat\u001b[39m=\u001b[33m\"\u001b[39m\u001b[33mparquet\u001b[39m\u001b[33m\"\u001b[39m)\n\u001b[32m    674\u001b[39m \u001b[38;5;66;03m# Stitch the two tables together to create final table\u001b[39;00m\n\u001b[32m--> \u001b[39m\u001b[32m675\u001b[39m \u001b[38;5;28;01mreturn\u001b[39;00m \u001b[43mvstack\u001b[49m\u001b[43m(\u001b[49m\u001b[43m[\u001b[49m\u001b[43mempty_table_with_columns_and_metadata\u001b[49m\u001b[43m,\u001b[49m\u001b[43m \u001b[49m\u001b[43mdata_table_with_no_metadata\u001b[49m\u001b[43m]\u001b[49m\u001b[43m)\u001b[49m\n",
      "\u001b[36mFile \u001b[39m\u001b[32m~/dev/cm/astropy/astropy/table/operations.py:715\u001b[39m, in \u001b[36mvstack\u001b[39m\u001b[34m(tables, join_type, metadata_conflicts)\u001b[39m\n\u001b[32m    712\u001b[39m \u001b[38;5;28;01mif\u001b[39;00m \u001b[38;5;28mlen\u001b[39m(tables) == \u001b[32m1\u001b[39m:\n\u001b[32m    713\u001b[39m     \u001b[38;5;28;01mreturn\u001b[39;00m tables[\u001b[32m0\u001b[39m]  \u001b[38;5;66;03m# no point in stacking a single table\u001b[39;00m\n\u001b[32m--> \u001b[39m\u001b[32m715\u001b[39m out = \u001b[43m_vstack\u001b[49m\u001b[43m(\u001b[49m\u001b[43mtables\u001b[49m\u001b[43m,\u001b[49m\u001b[43m \u001b[49m\u001b[43mjoin_type\u001b[49m\u001b[43m,\u001b[49m\u001b[43m \u001b[49m\u001b[43mmetadata_conflicts\u001b[49m\u001b[43m)\u001b[49m\n\u001b[32m    717\u001b[39m \u001b[38;5;66;03m# Merge table metadata\u001b[39;00m\n\u001b[32m    718\u001b[39m _merge_table_meta(out, tables, metadata_conflicts=metadata_conflicts)\n",
      "\u001b[36mFile \u001b[39m\u001b[32m~/dev/cm/astropy/astropy/table/operations.py:1496\u001b[39m, in \u001b[36m_vstack\u001b[39m\u001b[34m(arrays, join_type, metadata_conflicts)\u001b[39m\n\u001b[32m   1492\u001b[39m     col = col_cls.info.new_like(cols, n_rows, metadata_conflicts, out_name)\n\u001b[32m   1493\u001b[39m \u001b[38;5;28;01mexcept\u001b[39;00m metadata.MergeConflictError \u001b[38;5;28;01mas\u001b[39;00m err:\n\u001b[32m   1494\u001b[39m     \u001b[38;5;66;03m# Beautify the error message when we are trying to merge columns with incompatible\u001b[39;00m\n\u001b[32m   1495\u001b[39m     \u001b[38;5;66;03m# types by including the name of the columns that originated the error.\u001b[39;00m\n\u001b[32m-> \u001b[39m\u001b[32m1496\u001b[39m     \u001b[38;5;28;01mraise\u001b[39;00m TableMergeError(\n\u001b[32m   1497\u001b[39m         \u001b[33mf\u001b[39m\u001b[33m\"\u001b[39m\u001b[33mThe \u001b[39m\u001b[33m'\u001b[39m\u001b[38;5;132;01m{\u001b[39;00mout_name\u001b[38;5;132;01m}\u001b[39;00m\u001b[33m'\u001b[39m\u001b[33m columns have incompatible types: \u001b[39m\u001b[33m\"\u001b[39m\n\u001b[32m   1498\u001b[39m         \u001b[33mf\u001b[39m\u001b[33m\"\u001b[39m\u001b[38;5;132;01m{\u001b[39;00merr._incompat_types\u001b[38;5;132;01m}\u001b[39;00m\u001b[33m\"\u001b[39m\n\u001b[32m   1499\u001b[39m     ) \u001b[38;5;28;01mfrom\u001b[39;00m\u001b[38;5;250m \u001b[39m\u001b[34;01merr\u001b[39;00m\n\u001b[32m   1501\u001b[39m idx0 = \u001b[32m0\u001b[39m\n\u001b[32m   1502\u001b[39m \u001b[38;5;28;01mfor\u001b[39;00m name, array \u001b[38;5;129;01min\u001b[39;00m \u001b[38;5;28mzip\u001b[39m(in_names, arrays):\n",
      "\u001b[31mTableMergeError\u001b[39m: The 'designation' columns have incompatible types: ['object', 'str608']"
     ]
    }
   ],
   "source": [
    "Table.read(\"generated.parquet\", format=\"parquet.votable\")"
   ]
  },
  {
   "cell_type": "code",
   "execution_count": null,
   "id": "fa6a5fc3",
   "metadata": {},
   "outputs": [],
   "source": []
  }
 ],
 "metadata": {
  "kernelspec": {
   "display_name": "astropy-dev",
   "language": "python",
   "name": "python3"
  },
  "language_info": {
   "codemirror_mode": {
    "name": "ipython",
    "version": 3
   },
   "file_extension": ".py",
   "mimetype": "text/x-python",
   "name": "python",
   "nbconvert_exporter": "python",
   "pygments_lexer": "ipython3",
   "version": "3.12.12"
  }
 },
 "nbformat": 4,
 "nbformat_minor": 5
}
